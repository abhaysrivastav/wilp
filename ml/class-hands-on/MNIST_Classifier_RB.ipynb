{
 "cells": [
  {
   "cell_type": "code",
   "execution_count": 1,
   "id": "85a10e49",
   "metadata": {},
   "outputs": [
    {
     "name": "stderr",
     "output_type": "stream",
     "text": [
      "2023-04-22 11:28:19.319407: I tensorflow/core/platform/cpu_feature_guard.cc:193] This TensorFlow binary is optimized with oneAPI Deep Neural Network Library (oneDNN) to use the following CPU instructions in performance-critical operations:  AVX2 FMA\n",
      "To enable them in other operations, rebuild TensorFlow with the appropriate compiler flags.\n",
      "2023-04-22 11:28:36.481231: I tensorflow/core/platform/cpu_feature_guard.cc:193] This TensorFlow binary is optimized with oneAPI Deep Neural Network Library (oneDNN) to use the following CPU instructions in performance-critical operations:  AVX2 FMA\n",
      "To enable them in other operations, rebuild TensorFlow with the appropriate compiler flags.\n"
     ]
    }
   ],
   "source": [
    "import tensorflow as tf\n",
    "\n",
    "mnist = tf.keras.datasets.mnist\n",
    "(X_train, y_train), (X_test, y_test) = mnist.load_data()\n",
    "X_train, X_test = X_train / 255.0, X_test / 255.0\n",
    "\n",
    "model = tf.keras.models.Sequential([\n",
    "   tf.keras.layers.Flatten(input_shape=(28, 28)),\n",
    "   tf.keras.layers.Dense(512, activation='relu'),\n",
    "   tf.keras.layers.Dropout(0.2),\n",
    "   tf.keras.layers.Dense(10, activation='softmax')])\n",
    "\n",
    "model.compile(optimizer='sgd',\n",
    "   loss='sparse_categorical_crossentropy',\n",
    "   metrics=['accuracy'])"
   ]
  },
  {
   "cell_type": "code",
   "execution_count": 7,
   "id": "9569b892",
   "metadata": {},
   "outputs": [
    {
     "name": "stdout",
     "output_type": "stream",
     "text": [
      "Epoch 1/2\n",
      "1500/1500 [==============================] - 9s 5ms/step - loss: 0.7014 - accuracy: 0.8158 - val_loss: 0.3652 - val_accuracy: 0.9038\n",
      "Epoch 2/2\n",
      "1500/1500 [==============================] - 9s 6ms/step - loss: 0.3734 - accuracy: 0.8950 - val_loss: 0.3004 - val_accuracy: 0.9165\n"
     ]
    },
    {
     "data": {
      "text/plain": [
       "<keras.callbacks.History at 0x7f85db880370>"
      ]
     },
     "execution_count": 7,
     "metadata": {},
     "output_type": "execute_result"
    }
   ],
   "source": [
    "model.fit(X_train, y_train,epochs=2, validation_split=0.2)"
   ]
  },
  {
   "cell_type": "code",
   "execution_count": 8,
   "id": "d2287493",
   "metadata": {},
   "outputs": [
    {
     "name": "stdout",
     "output_type": "stream",
     "text": [
      "1/1 [==============================] - 0s 30ms/step\n"
     ]
    },
    {
     "data": {
      "text/plain": [
       "array([[1.5091509e-04, 9.5386147e-01, 1.3898515e-02, 7.0314957e-03,\n",
       "        1.2792055e-03, 2.9787640e-03, 3.1287023e-03, 6.6938922e-03,\n",
       "        8.1876721e-03, 2.7893784e-03]], dtype=float32)"
      ]
     },
     "execution_count": 8,
     "metadata": {},
     "output_type": "execute_result"
    }
   ],
   "source": [
    "model.predict(X_test[2:3])"
   ]
  },
  {
   "cell_type": "code",
   "execution_count": 13,
   "id": "c51f273e",
   "metadata": {},
   "outputs": [
    {
     "name": "stdout",
     "output_type": "stream",
     "text": [
      "1/1 [==============================] - 0s 46ms/step\n",
      "Prediction\n",
      " [[1.1365716e-04 2.1522847e-06 2.8941724e-03 6.9714733e-06 1.1926093e-02\n",
      "  9.6722288e-05 9.8447764e-01 5.6345136e-05 7.2020834e-05 3.5422793e-04]]\n",
      "\n",
      "Thresholded output\n",
      " [[0 0 0 0 0 0 1 0 0 0]]\n"
     ]
    }
   ],
   "source": [
    "# Prediction\n",
    "prediction = model.predict(X_test[88:89])\n",
    "#prediction= prediction[0]\n",
    "print(\"Prediction\\n\", prediction)\n",
    "print(\"\\nThresholded output\\n\",(prediction>0.5)*1)"
   ]
  },
  {
   "cell_type": "code",
   "execution_count": null,
   "id": "abfba90e",
   "metadata": {},
   "outputs": [],
   "source": []
  }
 ],
 "metadata": {
  "kernelspec": {
   "display_name": "Python 3 (ipykernel)",
   "language": "python",
   "name": "python3"
  },
  "language_info": {
   "codemirror_mode": {
    "name": "ipython",
    "version": 3
   },
   "file_extension": ".py",
   "mimetype": "text/x-python",
   "name": "python",
   "nbconvert_exporter": "python",
   "pygments_lexer": "ipython3",
   "version": "3.9.12"
  }
 },
 "nbformat": 4,
 "nbformat_minor": 5
}
